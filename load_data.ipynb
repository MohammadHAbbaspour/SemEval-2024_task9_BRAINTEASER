{
 "cells": [
  {
   "cell_type": "code",
   "execution_count": 1,
   "metadata": {},
   "outputs": [],
   "source": [
    "import os\n",
    "import json\n",
    "import numpy as np\n",
    "import pandas as pd\n",
    "import tiktoken\n",
    "\n",
    "base_dir = './'\n"
   ]
  },
  {
   "cell_type": "code",
   "execution_count": 2,
   "metadata": {},
   "outputs": [],
   "source": [
    "def read_data(path, allow_pickle=True):\n",
    "    data = np.load(path, allow_pickle=allow_pickle)\n",
    "    return data"
   ]
  },
  {
   "cell_type": "code",
   "execution_count": 4,
   "metadata": {},
   "outputs": [],
   "source": [
    "train_data_dir = base_dir + \"SP-train.npy\"\n",
    "val_data_dir = base_dir + \"SP_val_question_random.npy\"\n",
    "\n",
    "train_data = read_data(train_data_dir)\n",
    "val_data = read_data(val_data_dir)\n",
    "\n",
    "n_train, n_train_select = train_data.shape[0], 3\n",
    "n_val, n_val_select = val_data.shape[0], 3"
   ]
  },
  {
   "cell_type": "markdown",
   "metadata": {},
   "source": [
    "## Select static data"
   ]
  },
  {
   "cell_type": "code",
   "execution_count": 34,
   "metadata": {},
   "outputs": [],
   "source": [
    "\n",
    "\n",
    "target_file = base_dir + \"sdata.json\"\n",
    "\n",
    "if not os.path.exists(target_file):\n",
    "    with open(target_file, 'w') as f:\n",
    "        data = [train_data[0], train_data[n_train//2], train_data[n_train-1],\n",
    "                val_data[0], val_data[n_val//2], val_data[n_val-1]]\n",
    "        f.write('[\\n')\n",
    "        for d in data:\n",
    "            result = \"{\\n\"\n",
    "            for k, v in d.items():\n",
    "                result += f'\\t\"{k}\": \"{v}\",\\n'\n",
    "            result = result[0:-2] + \"\\n},\\n\"\n",
    "            f.write(result)\n",
    "        f.write(']')"
   ]
  },
  {
   "cell_type": "markdown",
   "metadata": {},
   "source": [
    "## Convert train data to csv file"
   ]
  },
  {
   "cell_type": "code",
   "execution_count": 16,
   "metadata": {},
   "outputs": [],
   "source": [
    "csv_train_file = base_dir + \"train_data.csv\"\n",
    "# columns = train_data[0].keys()\n",
    "columns = ['id', 'question', 'answer', 'distractor1', 'distractor2', 'label']\n",
    "train_df = pd.DataFrame(columns=columns)\n",
    "for d in train_data:\n",
    "    train_df.loc[len(train_df)] = d"
   ]
  },
  {
   "cell_type": "code",
   "execution_count": 20,
   "metadata": {},
   "outputs": [],
   "source": [
    "enc = tiktoken.encoding_for_model(\"gpt-3.5-turbo-1106\")\n",
    "extra_columns = {'q_token_count': 'question', 'a_token_count': 'answer', 'd1_token_count': 'distractor1', 'd2_token_count': 'distractor2'}\n",
    "for i in range(len(train_df)):\n",
    "    for k, v in extra_columns.items():\n",
    "        if isinstance(train_df.loc[i][v], str):\n",
    "            train_df.loc[i, k] = len(enc.encode(train_df.loc[i][v]))"
   ]
  },
  {
   "cell_type": "code",
   "execution_count": 36,
   "metadata": {},
   "outputs": [
    {
     "data": {
      "text/html": [
       "<div>\n",
       "<style scoped>\n",
       "    .dataframe tbody tr th:only-of-type {\n",
       "        vertical-align: middle;\n",
       "    }\n",
       "\n",
       "    .dataframe tbody tr th {\n",
       "        vertical-align: top;\n",
       "    }\n",
       "\n",
       "    .dataframe thead th {\n",
       "        text-align: right;\n",
       "    }\n",
       "</style>\n",
       "<table border=\"1\" class=\"dataframe\">\n",
       "  <thead>\n",
       "    <tr style=\"text-align: right;\">\n",
       "      <th></th>\n",
       "      <th>id</th>\n",
       "      <th>question</th>\n",
       "      <th>answer</th>\n",
       "      <th>distractor1</th>\n",
       "      <th>distractor2</th>\n",
       "      <th>label</th>\n",
       "      <th>q_token_count</th>\n",
       "      <th>a_token_count</th>\n",
       "      <th>d1_token_count</th>\n",
       "      <th>d2_token_count</th>\n",
       "    </tr>\n",
       "  </thead>\n",
       "  <tbody>\n",
       "    <tr>\n",
       "      <th>0</th>\n",
       "      <td>SP-0</td>\n",
       "      <td>Mr. and Mrs. Mustard have six daughters and ea...</td>\n",
       "      <td>Each daughter shares the same brother.</td>\n",
       "      <td>Some daughters get married and have their own ...</td>\n",
       "      <td>Some brothers were not loved by family and mov...</td>\n",
       "      <td>1</td>\n",
       "      <td>33.0</td>\n",
       "      <td>7.0</td>\n",
       "      <td>10.0</td>\n",
       "      <td>11.0</td>\n",
       "    </tr>\n",
       "    <tr>\n",
       "      <th>1</th>\n",
       "      <td>SP-0_SR</td>\n",
       "      <td>The six daughters of Mr. and Mrs. Mustard each...</td>\n",
       "      <td>Each daughter shares the same brother.</td>\n",
       "      <td>Some daughters get married and have their own ...</td>\n",
       "      <td>Some brothers were not loved by family and mov...</td>\n",
       "      <td>2</td>\n",
       "      <td>31.0</td>\n",
       "      <td>7.0</td>\n",
       "      <td>10.0</td>\n",
       "      <td>11.0</td>\n",
       "    </tr>\n",
       "    <tr>\n",
       "      <th>2</th>\n",
       "      <td>SP-0_CR</td>\n",
       "      <td>A chess team has five players, and each player...</td>\n",
       "      <td>Each player shares the same coach.</td>\n",
       "      <td>Some coaches get a raise.</td>\n",
       "      <td>Some players are backups and not allowed to play.</td>\n",
       "      <td>0</td>\n",
       "      <td>29.0</td>\n",
       "      <td>7.0</td>\n",
       "      <td>6.0</td>\n",
       "      <td>10.0</td>\n",
       "    </tr>\n",
       "    <tr>\n",
       "      <th>3</th>\n",
       "      <td>SP-1</td>\n",
       "      <td>A woman shoots her husband. Then she holds him...</td>\n",
       "      <td>The woman was a photographer. She shot a pictu...</td>\n",
       "      <td>The woman gets arrested for murder after dinner.</td>\n",
       "      <td>The woman gets a new partner.</td>\n",
       "      <td>2</td>\n",
       "      <td>45.0</td>\n",
       "      <td>24.0</td>\n",
       "      <td>9.0</td>\n",
       "      <td>7.0</td>\n",
       "    </tr>\n",
       "    <tr>\n",
       "      <th>4</th>\n",
       "      <td>SP-1_SR</td>\n",
       "      <td>An individual shoots their spouse. She continu...</td>\n",
       "      <td>The woman was a photographer. She shot a pictu...</td>\n",
       "      <td>The woman gets arrested for murder after dinner.</td>\n",
       "      <td>The woman gets a new partner.</td>\n",
       "      <td>1</td>\n",
       "      <td>43.0</td>\n",
       "      <td>24.0</td>\n",
       "      <td>9.0</td>\n",
       "      <td>7.0</td>\n",
       "    </tr>\n",
       "  </tbody>\n",
       "</table>\n",
       "</div>"
      ],
      "text/plain": [
       "        id                                           question  \\\n",
       "0     SP-0  Mr. and Mrs. Mustard have six daughters and ea...   \n",
       "1  SP-0_SR  The six daughters of Mr. and Mrs. Mustard each...   \n",
       "2  SP-0_CR  A chess team has five players, and each player...   \n",
       "3     SP-1  A woman shoots her husband. Then she holds him...   \n",
       "4  SP-1_SR  An individual shoots their spouse. She continu...   \n",
       "\n",
       "                                              answer  \\\n",
       "0             Each daughter shares the same brother.   \n",
       "1             Each daughter shares the same brother.   \n",
       "2                 Each player shares the same coach.   \n",
       "3  The woman was a photographer. She shot a pictu...   \n",
       "4  The woman was a photographer. She shot a pictu...   \n",
       "\n",
       "                                         distractor1  \\\n",
       "0  Some daughters get married and have their own ...   \n",
       "1  Some daughters get married and have their own ...   \n",
       "2                          Some coaches get a raise.   \n",
       "3   The woman gets arrested for murder after dinner.   \n",
       "4   The woman gets arrested for murder after dinner.   \n",
       "\n",
       "                                         distractor2  label  q_token_count  \\\n",
       "0  Some brothers were not loved by family and mov...      1           33.0   \n",
       "1  Some brothers were not loved by family and mov...      2           31.0   \n",
       "2  Some players are backups and not allowed to play.      0           29.0   \n",
       "3                      The woman gets a new partner.      2           45.0   \n",
       "4                      The woman gets a new partner.      1           43.0   \n",
       "\n",
       "   a_token_count  d1_token_count  d2_token_count  \n",
       "0            7.0            10.0            11.0  \n",
       "1            7.0            10.0            11.0  \n",
       "2            7.0             6.0            10.0  \n",
       "3           24.0             9.0             7.0  \n",
       "4           24.0             9.0             7.0  "
      ]
     },
     "execution_count": 36,
     "metadata": {},
     "output_type": "execute_result"
    }
   ],
   "source": [
    "for i in range(len(train_df)):\n",
    "    for k, v in extra_columns.items():\n",
    "        if isinstance(train_df.loc[i][v], str):\n",
    "            assert train_df.loc[i, k] == len(enc.encode(train_df.loc[i, v]))\n",
    "train_df.to_csv(csv_train_file)\n",
    "train_df.head()"
   ]
  },
  {
   "cell_type": "code",
   "execution_count": 43,
   "metadata": {},
   "outputs": [
    {
     "name": "stdout",
     "output_type": "stream",
     "text": [
      "sum question token count: 21268.0\n",
      "sum answer token count: 5702.0\n",
      "sum distractor1 token count: 5403.0\n",
      "sum distractor2 token count: 5446.0\n",
      "----------------------------\n",
      "the number of the total tokens: 37819.0\n"
     ]
    }
   ],
   "source": [
    "total_token_count = 0\n",
    "for k, v in extra_columns.items():\n",
    "    total_token_count += train_df[k].sum()\n",
    "    print(f'sum {v} token count: {str(train_df[k].sum())}')\n",
    "print('----------------------------')\n",
    "print('the number of the total tokens: ' + str(total_token_count))"
   ]
  }
 ],
 "metadata": {
  "kernelspec": {
   "display_name": "semeval",
   "language": "python",
   "name": "python3"
  },
  "language_info": {
   "codemirror_mode": {
    "name": "ipython",
    "version": 3
   },
   "file_extension": ".py",
   "mimetype": "text/x-python",
   "name": "python",
   "nbconvert_exporter": "python",
   "pygments_lexer": "ipython3",
   "version": "3.10.12"
  }
 },
 "nbformat": 4,
 "nbformat_minor": 2
}

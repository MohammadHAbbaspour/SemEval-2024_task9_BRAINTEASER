{
 "cells": [
  {
   "cell_type": "code",
   "execution_count": 14,
   "metadata": {},
   "outputs": [],
   "source": [
    "import os\n",
    "import json\n",
    "import numpy as np\n",
    "import pandas as pd\n",
    "\n",
    "base_dir = 'F:\\\\NLP-Lab\\\\Internship\\\\SemEval\\\\SemEval-2024_task9_BRAINTEASER\\\\'\n"
   ]
  },
  {
   "cell_type": "code",
   "execution_count": 15,
   "metadata": {},
   "outputs": [],
   "source": [
    "def read_data(path, allow_pickle=True):\n",
    "    data = np.load(path, allow_pickle=allow_pickle)\n",
    "    return data"
   ]
  },
  {
   "cell_type": "markdown",
   "metadata": {},
   "source": [
    "## Select static data"
   ]
  },
  {
   "cell_type": "code",
   "execution_count": 33,
   "metadata": {},
   "outputs": [],
   "source": [
    "train_data_dir = base_dir + \"SP-train.npy\"\n",
    "val_data_dir = base_dir + \"SP_val_question_random.npy\"\n",
    "\n",
    "train_data = read_data(train_data_dir)\n",
    "val_data = read_data(val_data_dir)\n",
    "\n",
    "n_train, n_train_select = train_data.shape[0], 3\n",
    "n_val, n_val_select = val_data.shape[0], 3\n",
    "\n",
    "target_file = base_dir + \"sdata.json\"\n",
    "\n",
    "if not os.path.exists(target_file):\n",
    "    with open(target_file, 'w') as f:\n",
    "        data = [train_data[0], train_data[n_train//2], train_data[n_train-1],\n",
    "                val_data[0], val_data[n_val//2], val_data[n_val-1]]\n",
    "        f.write('[\\n')\n",
    "        for d in data:\n",
    "            result = \"{\\n\"\n",
    "            for k, v in d.items():\n",
    "                result += f'\\t\"{k}\": \"{v}\",\\n'\n",
    "            result = result[0:-2] + \"\\n},\\n\"\n",
    "            f.write(result)\n",
    "        f.write(']')"
   ]
  }
 ],
 "metadata": {
  "kernelspec": {
   "display_name": "semeval",
   "language": "python",
   "name": "python3"
  },
  "language_info": {
   "codemirror_mode": {
    "name": "ipython",
    "version": 3
   },
   "file_extension": ".py",
   "mimetype": "text/x-python",
   "name": "python",
   "nbconvert_exporter": "python",
   "pygments_lexer": "ipython3",
   "version": "3.10.6"
  }
 },
 "nbformat": 4,
 "nbformat_minor": 2
}
